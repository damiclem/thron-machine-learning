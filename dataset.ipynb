{
 "cells": [
  {
   "cell_type": "code",
   "execution_count": 1,
   "metadata": {
    "pycharm": {
     "is_executing": true
    }
   },
   "outputs": [
    {
     "name": "stdout",
     "output_type": "stream",
     "text": [
      "showing info https://raw.githubusercontent.com/nltk/nltk_data/gh-pages/index.xml\n"
     ]
    }
   ],
   "source": [
    "# Dependencies\n",
    "import matplotlib.pyplot as plt\n",
    "import pandas as pd\n",
    "import numpy as np\n",
    "import string\n",
    "import nltk\n",
    "import sys\n",
    "import os\n",
    "import re\n",
    "\n",
    "# Download corpus from NLTK\n",
    "nltk.download()\n",
    "# Set matplotlib inline\n",
    "%matplotlib inline"
   ]
  },
  {
   "cell_type": "code",
   "execution_count": 2,
   "metadata": {
    "pycharm": {
     "name": "#%%\n"
    }
   },
   "outputs": [
    {
     "name": "stderr",
     "output_type": "stream",
     "text": [
      "b'Skipping line 6044: expected 10 fields, saw 11\\nSkipping line 6569: expected 10 fields, saw 11\\nSkipping line 7399: expected 10 fields, saw 11\\nSkipping line 7939: expected 10 fields, saw 11\\nSkipping line 9026: expected 10 fields, saw 11\\nSkipping line 10264: expected 10 fields, saw 11\\nSkipping line 10427: expected 10 fields, saw 11\\nSkipping line 10905: expected 10 fields, saw 11\\nSkipping line 11373: expected 10 fields, saw 11\\nSkipping line 11945: expected 10 fields, saw 11\\nSkipping line 14112: expected 10 fields, saw 11\\nSkipping line 14532: expected 10 fields, saw 11\\nSkipping line 15076: expected 10 fields, saw 12\\nSkipping line 29906: expected 10 fields, saw 11\\nSkipping line 31625: expected 10 fields, saw 11\\nSkipping line 33020: expected 10 fields, saw 11\\nSkipping line 35748: expected 10 fields, saw 11\\nSkipping line 35962: expected 10 fields, saw 11\\nSkipping line 37770: expected 10 fields, saw 11\\nSkipping line 38105: expected 10 fields, saw 11\\nSkipping line 38275: expected 10 fields, saw 11\\nSkipping line 38404: expected 10 fields, saw 12\\n'\n"
     ]
    },
    {
     "data": {
      "text/html": [
       "<div>\n",
       "<style scoped>\n",
       "    .dataframe tbody tr th:only-of-type {\n",
       "        vertical-align: middle;\n",
       "    }\n",
       "\n",
       "    .dataframe tbody tr th {\n",
       "        vertical-align: top;\n",
       "    }\n",
       "\n",
       "    .dataframe thead th {\n",
       "        text-align: right;\n",
       "    }\n",
       "</style>\n",
       "<table border=\"1\" class=\"dataframe\">\n",
       "  <thead>\n",
       "    <tr style=\"text-align: right;\">\n",
       "      <th></th>\n",
       "      <th>id</th>\n",
       "      <th>gender</th>\n",
       "      <th>masterCategory</th>\n",
       "      <th>subCategory</th>\n",
       "      <th>articleType</th>\n",
       "      <th>baseColour</th>\n",
       "      <th>season</th>\n",
       "      <th>year</th>\n",
       "      <th>usage</th>\n",
       "      <th>productDisplayName</th>\n",
       "    </tr>\n",
       "  </thead>\n",
       "  <tbody>\n",
       "    <tr>\n",
       "      <th>count</th>\n",
       "      <td>44424.000000</td>\n",
       "      <td>44424</td>\n",
       "      <td>44424</td>\n",
       "      <td>44424</td>\n",
       "      <td>44424</td>\n",
       "      <td>44409</td>\n",
       "      <td>44403</td>\n",
       "      <td>44423.000000</td>\n",
       "      <td>44107</td>\n",
       "      <td>44417</td>\n",
       "    </tr>\n",
       "    <tr>\n",
       "      <th>unique</th>\n",
       "      <td>NaN</td>\n",
       "      <td>5</td>\n",
       "      <td>7</td>\n",
       "      <td>45</td>\n",
       "      <td>143</td>\n",
       "      <td>46</td>\n",
       "      <td>4</td>\n",
       "      <td>NaN</td>\n",
       "      <td>8</td>\n",
       "      <td>31121</td>\n",
       "    </tr>\n",
       "    <tr>\n",
       "      <th>top</th>\n",
       "      <td>NaN</td>\n",
       "      <td>Men</td>\n",
       "      <td>Apparel</td>\n",
       "      <td>Topwear</td>\n",
       "      <td>Tshirts</td>\n",
       "      <td>Black</td>\n",
       "      <td>Summer</td>\n",
       "      <td>NaN</td>\n",
       "      <td>Casual</td>\n",
       "      <td>Lucera Women Silver Earrings</td>\n",
       "    </tr>\n",
       "    <tr>\n",
       "      <th>freq</th>\n",
       "      <td>NaN</td>\n",
       "      <td>22147</td>\n",
       "      <td>21397</td>\n",
       "      <td>15402</td>\n",
       "      <td>7067</td>\n",
       "      <td>9728</td>\n",
       "      <td>21472</td>\n",
       "      <td>NaN</td>\n",
       "      <td>34406</td>\n",
       "      <td>82</td>\n",
       "    </tr>\n",
       "    <tr>\n",
       "      <th>mean</th>\n",
       "      <td>29696.334301</td>\n",
       "      <td>NaN</td>\n",
       "      <td>NaN</td>\n",
       "      <td>NaN</td>\n",
       "      <td>NaN</td>\n",
       "      <td>NaN</td>\n",
       "      <td>NaN</td>\n",
       "      <td>2012.806497</td>\n",
       "      <td>NaN</td>\n",
       "      <td>NaN</td>\n",
       "    </tr>\n",
       "    <tr>\n",
       "      <th>std</th>\n",
       "      <td>17049.490518</td>\n",
       "      <td>NaN</td>\n",
       "      <td>NaN</td>\n",
       "      <td>NaN</td>\n",
       "      <td>NaN</td>\n",
       "      <td>NaN</td>\n",
       "      <td>NaN</td>\n",
       "      <td>2.126480</td>\n",
       "      <td>NaN</td>\n",
       "      <td>NaN</td>\n",
       "    </tr>\n",
       "    <tr>\n",
       "      <th>min</th>\n",
       "      <td>1163.000000</td>\n",
       "      <td>NaN</td>\n",
       "      <td>NaN</td>\n",
       "      <td>NaN</td>\n",
       "      <td>NaN</td>\n",
       "      <td>NaN</td>\n",
       "      <td>NaN</td>\n",
       "      <td>2007.000000</td>\n",
       "      <td>NaN</td>\n",
       "      <td>NaN</td>\n",
       "    </tr>\n",
       "    <tr>\n",
       "      <th>25%</th>\n",
       "      <td>14768.750000</td>\n",
       "      <td>NaN</td>\n",
       "      <td>NaN</td>\n",
       "      <td>NaN</td>\n",
       "      <td>NaN</td>\n",
       "      <td>NaN</td>\n",
       "      <td>NaN</td>\n",
       "      <td>2011.000000</td>\n",
       "      <td>NaN</td>\n",
       "      <td>NaN</td>\n",
       "    </tr>\n",
       "    <tr>\n",
       "      <th>50%</th>\n",
       "      <td>28618.500000</td>\n",
       "      <td>NaN</td>\n",
       "      <td>NaN</td>\n",
       "      <td>NaN</td>\n",
       "      <td>NaN</td>\n",
       "      <td>NaN</td>\n",
       "      <td>NaN</td>\n",
       "      <td>2012.000000</td>\n",
       "      <td>NaN</td>\n",
       "      <td>NaN</td>\n",
       "    </tr>\n",
       "    <tr>\n",
       "      <th>75%</th>\n",
       "      <td>44683.250000</td>\n",
       "      <td>NaN</td>\n",
       "      <td>NaN</td>\n",
       "      <td>NaN</td>\n",
       "      <td>NaN</td>\n",
       "      <td>NaN</td>\n",
       "      <td>NaN</td>\n",
       "      <td>2015.000000</td>\n",
       "      <td>NaN</td>\n",
       "      <td>NaN</td>\n",
       "    </tr>\n",
       "    <tr>\n",
       "      <th>max</th>\n",
       "      <td>60000.000000</td>\n",
       "      <td>NaN</td>\n",
       "      <td>NaN</td>\n",
       "      <td>NaN</td>\n",
       "      <td>NaN</td>\n",
       "      <td>NaN</td>\n",
       "      <td>NaN</td>\n",
       "      <td>2019.000000</td>\n",
       "      <td>NaN</td>\n",
       "      <td>NaN</td>\n",
       "    </tr>\n",
       "  </tbody>\n",
       "</table>\n",
       "</div>"
      ],
      "text/plain": [
       "                  id gender masterCategory subCategory articleType baseColour  \\\n",
       "count   44424.000000  44424          44424       44424       44424      44409   \n",
       "unique           NaN      5              7          45         143         46   \n",
       "top              NaN    Men        Apparel     Topwear     Tshirts      Black   \n",
       "freq             NaN  22147          21397       15402        7067       9728   \n",
       "mean    29696.334301    NaN            NaN         NaN         NaN        NaN   \n",
       "std     17049.490518    NaN            NaN         NaN         NaN        NaN   \n",
       "min      1163.000000    NaN            NaN         NaN         NaN        NaN   \n",
       "25%     14768.750000    NaN            NaN         NaN         NaN        NaN   \n",
       "50%     28618.500000    NaN            NaN         NaN         NaN        NaN   \n",
       "75%     44683.250000    NaN            NaN         NaN         NaN        NaN   \n",
       "max     60000.000000    NaN            NaN         NaN         NaN        NaN   \n",
       "\n",
       "        season          year   usage            productDisplayName  \n",
       "count    44403  44423.000000   44107                         44417  \n",
       "unique       4           NaN       8                         31121  \n",
       "top     Summer           NaN  Casual  Lucera Women Silver Earrings  \n",
       "freq     21472           NaN   34406                            82  \n",
       "mean       NaN   2012.806497     NaN                           NaN  \n",
       "std        NaN      2.126480     NaN                           NaN  \n",
       "min        NaN   2007.000000     NaN                           NaN  \n",
       "25%        NaN   2011.000000     NaN                           NaN  \n",
       "50%        NaN   2012.000000     NaN                           NaN  \n",
       "75%        NaN   2015.000000     NaN                           NaN  \n",
       "max        NaN   2019.000000     NaN                           NaN  "
      ]
     },
     "execution_count": 2,
     "metadata": {},
     "output_type": "execute_result"
    }
   ],
   "source": [
    "# Define path to CSV file\n",
    "path = 'data/styles.csv'\n",
    "# Load data from CSV file\n",
    "ds = pd.read_csv(path, sep=',', on_bad_lines='warn')\n",
    "ds.describe(include='all')"
   ]
  },
  {
   "cell_type": "code",
   "execution_count": 3,
   "metadata": {
    "pycharm": {
     "name": "#%%\n"
    }
   },
   "outputs": [
    {
     "data": {
      "text/plain": [
       "0              [turtle, check, men, navy, blue, shirt]\n",
       "1            [peter, england, men, party, blue, jeans]\n",
       "2                        [titan, women, silver, watch]\n",
       "3    [manchester, united, men, solid, black, track,...\n",
       "4                            [puma, men, grey, tshirt]\n",
       "Name: productDisplayName, dtype: object"
      ]
     },
     "execution_count": 3,
     "metadata": {},
     "output_type": "execute_result"
    }
   ],
   "source": [
    "# Define tags column\n",
    "tags = ds.productDisplayName.astype(str)\n",
    "# Make words lowercase\n",
    "tags = tags.str.lower()\n",
    "# Define punctuation\n",
    "punctuation = set(string.punctuation)\n",
    "# Remove punctuation\n",
    "tags = tags.apply(lambda s: ''.join([c for c in s if c not in punctuation]))\n",
    "# Tokenize words\n",
    "tags = tags.apply(lambda s: nltk.word_tokenize(s))\n",
    "# Define stop words\n",
    "stop_words = set(nltk.corpus.stopwords.words('english'))\n",
    "# Remove stop words\n",
    "tags = tags.apply(lambda s: [w for w in s if w not in stop_words])\n",
    "# Remove numbers\n",
    "tags = tags.apply(lambda s: [w for w in s if bool(re.search(r'\\d', w)) != True])\n",
    "tags.head()"
   ]
  },
  {
   "cell_type": "code",
   "execution_count": 4,
   "metadata": {
    "pycharm": {
     "name": "#%%\n"
    }
   },
   "outputs": [
    {
     "data": {
      "text/plain": [
       "count     6908.000000\n",
       "mean        35.420093\n",
       "std        371.906980\n",
       "min          1.000000\n",
       "25%          1.000000\n",
       "50%          2.000000\n",
       "75%          6.000000\n",
       "max      19153.000000\n",
       "dtype: float64"
      ]
     },
     "execution_count": 4,
     "metadata": {},
     "output_type": "execute_result"
    }
   ],
   "source": [
    "# Retrieve words\n",
    "words = pd.Series([w for s in tags.tolist() for w in s])\n",
    "# Count word occurrences\n",
    "count = words.value_counts()\n",
    "count.describe()"
   ]
  },
  {
   "cell_type": "code",
   "execution_count": 5,
   "metadata": {
    "pycharm": {
     "name": "#%%\n"
    }
   },
   "outputs": [
    {
     "data": {
      "image/png": "[encoded data removed]",
      "text/plain": [
       "<Figure size 2160x720 with 2 Axes>"
      ]
     },
     "metadata": {
      "needs_background": "light"
     },
     "output_type": "display_data"
    }
   ],
   "source": [
    "fig, axs = plt.subplots(1, 2, figsize=(30, 10))\n",
    "_ = axs[0].bar(count[:10].index, count[:10].values)\n",
    "_ = axs[1].bar(count[-10:].index, count[-10:].values)\n",
    "_ = plt.show()"
   ]
  },
  {
   "cell_type": "code",
   "execution_count": 11,
   "metadata": {
    "pycharm": {
     "name": "#%%\n"
    }
   },
   "outputs": [
    {
     "data": {
      "text/plain": "count       2453\nunique      2453\ntop       unisex\nfreq           1\ndtype: object"
     },
     "execution_count": 11,
     "metadata": {},
     "output_type": "execute_result"
    }
   ],
   "source": [
    "# Define a vocabulary of words\n",
    "# NOTE Words with less than two appearences are excluded\n",
    "vocabulary = pd.Series(list({w for w in words.values if count[w] > 3}))\n",
    "vocabulary.describe()"
   ]
  },
  {
   "cell_type": "code",
   "execution_count": 12,
   "metadata": {
    "pycharm": {
     "name": "#%%\n"
    }
   },
   "outputs": [],
   "source": [
    "# # One-hot-encode vocabulary\n",
    "# encoded = pd.get_dummies(vocabulary)\n",
    "# encoded.head()"
   ]
  },
  {
   "cell_type": "code",
   "execution_count": 15,
   "metadata": {
    "pycharm": {
     "name": "#%%\n"
    }
   },
   "outputs": [
    {
     "data": {
      "text/plain": "unisex         0\nremover        1\njdel           2\nbenetton       3\nbrightening    4\ndtype: int64"
     },
     "execution_count": 15,
     "metadata": {},
     "output_type": "execute_result"
    }
   ],
   "source": [
    "# Swap index and value\n",
    "vocabulary = pd.Series(dict((w, i) for i, w in vocabulary.iteritems()))\n",
    "# Store vocabulary\n",
    "vocabulary.to_json('data/vocabulary.json')\n",
    "vocabulary.head()"
   ]
  },
  {
   "cell_type": "code",
   "execution_count": null,
   "outputs": [],
   "source": [],
   "metadata": {
    "collapsed": false,
    "pycharm": {
     "name": "#%%\n"
    }
   }
  }
 ],
 "metadata": {
  "kernelspec": {
   "display_name": "Python 3.8.3 64-bit ('base': conda)",
   "language": "python",
   "name": "python38364bitbaseconda95a146a3e0f24d269763f2b941d4e57c"
  },
  "language_info": {
   "codemirror_mode": {
    "name": "ipython",
    "version": 3
   },
   "file_extension": ".py",
   "mimetype": "text/x-python",
   "name": "python",
   "nbconvert_exporter": "python",
   "pygments_lexer": "ipython3",
   "version": "3.8.3"
  }
 },
 "nbformat": 4,
 "nbformat_minor": 1
}