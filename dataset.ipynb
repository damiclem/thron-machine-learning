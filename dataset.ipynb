{
 "cells": [
  {
   "cell_type": "code",
   "execution_count": 1,
   "metadata": {},
   "outputs": [
    {
     "name": "stdout",
     "output_type": "stream",
     "text": [
      "showing info https://raw.githubusercontent.com/nltk/nltk_data/gh-pages/index.xml\n"
     ]
    }
   ],
   "source": [
    "# Dependencies\n",
    "import matplotlib.pyplot as plt\n",
    "import pandas as pd\n",
    "import numpy as np\n",
    "import string\n",
    "import nltk\n",
    "import sys\n",
    "import os\n",
    "import re\n",
    "\n",
    "# Download corpus from NLTK\n",
    "nltk.download()\n",
    "# Set matplotlib inline\n",
    "%matplotlib inline"
   ]
  },
  {
   "cell_type": "code",
   "execution_count": 2,
   "metadata": {
    "pycharm": {
     "name": "#%%\n"
    }
   },
   "outputs": [
    {
     "name": "stderr",
     "output_type": "stream",
     "text": [
      "b'Skipping line 6044: expected 10 fields, saw 11\\nSkipping line 6569: expected 10 fields, saw 11\\nSkipping line 7399: expected 10 fields, saw 11\\nSkipping line 7939: expected 10 fields, saw 11\\nSkipping line 9026: expected 10 fields, saw 11\\nSkipping line 10264: expected 10 fields, saw 11\\nSkipping line 10427: expected 10 fields, saw 11\\nSkipping line 10905: expected 10 fields, saw 11\\nSkipping line 11373: expected 10 fields, saw 11\\nSkipping line 11945: expected 10 fields, saw 11\\nSkipping line 14112: expected 10 fields, saw 11\\nSkipping line 14532: expected 10 fields, saw 11\\nSkipping line 15076: expected 10 fields, saw 12\\nSkipping line 29906: expected 10 fields, saw 11\\nSkipping line 31625: expected 10 fields, saw 11\\nSkipping line 33020: expected 10 fields, saw 11\\nSkipping line 35748: expected 10 fields, saw 11\\nSkipping line 35962: expected 10 fields, saw 11\\nSkipping line 37770: expected 10 fields, saw 11\\nSkipping line 38105: expected 10 fields, saw 11\\nSkipping line 38275: expected 10 fields, saw 11\\nSkipping line 38404: expected 10 fields, saw 12\\n'\n"
     ]
    },
    {
     "data": {
      "text/plain": "       gender masterCategory subCategory articleType baseColour  season  \\\ncount   44424          44424       44424       44424      44409   44403   \nunique      5              7          45         143         46       4   \ntop       Men        Apparel     Topwear     Tshirts      Black  Summer   \nfreq    22147          21397       15402        7067       9728   21472   \nmean      NaN            NaN         NaN         NaN        NaN     NaN   \nstd       NaN            NaN         NaN         NaN        NaN     NaN   \nmin       NaN            NaN         NaN         NaN        NaN     NaN   \n25%       NaN            NaN         NaN         NaN        NaN     NaN   \n50%       NaN            NaN         NaN         NaN        NaN     NaN   \n75%       NaN            NaN         NaN         NaN        NaN     NaN   \nmax       NaN            NaN         NaN         NaN        NaN     NaN   \n\n                year   usage            productDisplayName  \ncount   44423.000000   44107                         44417  \nunique           NaN       8                         31121  \ntop              NaN  Casual  Lucera Women Silver Earrings  \nfreq             NaN   34406                            82  \nmean     2012.806497     NaN                           NaN  \nstd         2.126480     NaN                           NaN  \nmin      2007.000000     NaN                           NaN  \n25%      2011.000000     NaN                           NaN  \n50%      2012.000000     NaN                           NaN  \n75%      2015.000000     NaN                           NaN  \nmax      2019.000000     NaN                           NaN  ",
      "text/html": "<div>\n<style scoped>\n    .dataframe tbody tr th:only-of-type {\n        vertical-align: middle;\n    }\n\n    .dataframe tbody tr th {\n        vertical-align: top;\n    }\n\n    .dataframe thead th {\n        text-align: right;\n    }\n</style>\n<table border=\"1\" class=\"dataframe\">\n  <thead>\n    <tr style=\"text-align: right;\">\n      <th></th>\n      <th>gender</th>\n      <th>masterCategory</th>\n      <th>subCategory</th>\n      <th>articleType</th>\n      <th>baseColour</th>\n      <th>season</th>\n      <th>year</th>\n      <th>usage</th>\n      <th>productDisplayName</th>\n    </tr>\n  </thead>\n  <tbody>\n    <tr>\n      <th>count</th>\n      <td>44424</td>\n      <td>44424</td>\n      <td>44424</td>\n      <td>44424</td>\n      <td>44409</td>\n      <td>44403</td>\n      <td>44423.000000</td>\n      <td>44107</td>\n      <td>44417</td>\n    </tr>\n    <tr>\n      <th>unique</th>\n      <td>5</td>\n      <td>7</td>\n      <td>45</td>\n      <td>143</td>\n      <td>46</td>\n      <td>4</td>\n      <td>NaN</td>\n      <td>8</td>\n      <td>31121</td>\n    </tr>\n    <tr>\n      <th>top</th>\n      <td>Men</td>\n      <td>Apparel</td>\n      <td>Topwear</td>\n      <td>Tshirts</td>\n      <td>Black</td>\n      <td>Summer</td>\n      <td>NaN</td>\n      <td>Casual</td>\n      <td>Lucera Women Silver Earrings</td>\n    </tr>\n    <tr>\n      <th>freq</th>\n      <td>22147</td>\n      <td>21397</td>\n      <td>15402</td>\n      <td>7067</td>\n      <td>9728</td>\n      <td>21472</td>\n      <td>NaN</td>\n      <td>34406</td>\n      <td>82</td>\n    </tr>\n    <tr>\n      <th>mean</th>\n      <td>NaN</td>\n      <td>NaN</td>\n      <td>NaN</td>\n      <td>NaN</td>\n      <td>NaN</td>\n      <td>NaN</td>\n      <td>2012.806497</td>\n      <td>NaN</td>\n      <td>NaN</td>\n    </tr>\n    <tr>\n      <th>std</th>\n      <td>NaN</td>\n      <td>NaN</td>\n      <td>NaN</td>\n      <td>NaN</td>\n      <td>NaN</td>\n      <td>NaN</td>\n      <td>2.126480</td>\n      <td>NaN</td>\n      <td>NaN</td>\n    </tr>\n    <tr>\n      <th>min</th>\n      <td>NaN</td>\n      <td>NaN</td>\n      <td>NaN</td>\n      <td>NaN</td>\n      <td>NaN</td>\n      <td>NaN</td>\n      <td>2007.000000</td>\n      <td>NaN</td>\n      <td>NaN</td>\n    </tr>\n    <tr>\n      <th>25%</th>\n      <td>NaN</td>\n      <td>NaN</td>\n      <td>NaN</td>\n      <td>NaN</td>\n      <td>NaN</td>\n      <td>NaN</td>\n      <td>2011.000000</td>\n      <td>NaN</td>\n      <td>NaN</td>\n    </tr>\n    <tr>\n      <th>50%</th>\n      <td>NaN</td>\n      <td>NaN</td>\n      <td>NaN</td>\n      <td>NaN</td>\n      <td>NaN</td>\n      <td>NaN</td>\n      <td>2012.000000</td>\n      <td>NaN</td>\n      <td>NaN</td>\n    </tr>\n    <tr>\n      <th>75%</th>\n      <td>NaN</td>\n      <td>NaN</td>\n      <td>NaN</td>\n      <td>NaN</td>\n      <td>NaN</td>\n      <td>NaN</td>\n      <td>2015.000000</td>\n      <td>NaN</td>\n      <td>NaN</td>\n    </tr>\n    <tr>\n      <th>max</th>\n      <td>NaN</td>\n      <td>NaN</td>\n      <td>NaN</td>\n      <td>NaN</td>\n      <td>NaN</td>\n      <td>NaN</td>\n      <td>2019.000000</td>\n      <td>NaN</td>\n      <td>NaN</td>\n    </tr>\n  </tbody>\n</table>\n</div>"
     },
     "execution_count": 2,
     "metadata": {},
     "output_type": "execute_result"
    }
   ],
   "source": [
    "# Define path to CSV file\n",
    "path = 'data/styles.csv'\n",
    "# Load data from CSV file\n",
    "ds = pd.read_csv(path, index_col='id', sep=',', on_bad_lines='warn')\n",
    "ds.describe(include='all')"
   ]
  },
  {
   "cell_type": "code",
   "execution_count": 3,
   "metadata": {
    "pycharm": {
     "name": "#%%\n"
    }
   },
   "outputs": [
    {
     "data": {
      "text/plain": "id\n15970              [turtle, check, men, navy, blue, shirt]\n39386            [peter, england, men, party, blue, jeans]\n59263                        [titan, women, silver, watch]\n21379    [manchester, united, men, solid, black, track,...\n53759                            [puma, men, grey, tshirt]\nName: productDisplayName, dtype: object"
     },
     "execution_count": 3,
     "metadata": {},
     "output_type": "execute_result"
    }
   ],
   "source": [
    "# Define tags column\n",
    "tags = ds.productDisplayName.astype(str)\n",
    "# Make words lowercase\n",
    "tags = tags.str.lower()\n",
    "# Define punctuation\n",
    "punctuation = set(string.punctuation)\n",
    "# Remove punctuation\n",
    "tags = tags.apply(lambda s: ''.join([c for c in s if c not in punctuation]))\n",
    "# Tokenize words\n",
    "tags = tags.apply(lambda s: nltk.word_tokenize(s))\n",
    "# Define stop words\n",
    "stop_words = set(nltk.corpus.stopwords.words('english'))\n",
    "# Remove stop words\n",
    "tags = tags.apply(lambda s: [w for w in s if w not in stop_words])\n",
    "# Remove numbers\n",
    "tags = tags.apply(lambda s: [w for w in s if bool(re.search(r'\\d', w)) != True])\n",
    "# Remove words showrter than three characters\n",
    "tags = tags.apply(lambda s: [w for w in s if len(w) > 2])\n",
    "tags.head()"
   ]
  },
  {
   "cell_type": "code",
   "execution_count": 4,
   "metadata": {
    "pycharm": {
     "name": "#%%\n"
    }
   },
   "outputs": [
    {
     "data": {
      "text/plain": "count     6727.000000\nmean        35.939944\nstd        376.793261\nmin          1.000000\n25%          1.000000\n50%          2.000000\n75%          6.000000\nmax      19153.000000\ndtype: float64"
     },
     "execution_count": 4,
     "metadata": {},
     "output_type": "execute_result"
    }
   ],
   "source": [
    "# Retrieve words\n",
    "words = pd.Series([w for s in tags.tolist() for w in s])\n",
    "# Count word occurrences\n",
    "count = words.value_counts()\n",
    "count.describe()"
   ]
  },
  {
   "cell_type": "code",
   "execution_count": 5,
   "metadata": {
    "pycharm": {
     "name": "#%%\n"
    }
   },
   "outputs": [
    {
     "data": {
      "text/plain": "<Figure size 2160x720 with 2 Axes>",
      "image/png": "[encoded data removed]"
     },
     "metadata": {
      "needs_background": "light"
     },
     "output_type": "display_data"
    }
   ],
   "source": [
    "fig, axs = plt.subplots(1, 2, figsize=(30, 10))\n",
    "_ = axs[0].bar(count[:10].index, count[:10].values)\n",
    "_ = axs[1].bar(count[-10:].index, count[-10:].values)\n",
    "_ = plt.show()"
   ]
  },
  {
   "cell_type": "code",
   "execution_count": 6,
   "metadata": {
    "pycharm": {
     "name": "#%%\n"
    }
   },
   "outputs": [
    {
     "data": {
      "text/plain": "count      2362\nunique     2362\ntop       peace\nfreq          1\ndtype: object"
     },
     "execution_count": 6,
     "metadata": {},
     "output_type": "execute_result"
    }
   ],
   "source": [
    "# Define a vocabulary of words\n",
    "# NOTE Words with less than two appearences are excluded\n",
    "vocabulary = pd.Series(list({w for w in words.values if count[w] > 3}))\n",
    "vocabulary.describe()"
   ]
  },
  {
   "cell_type": "code",
   "execution_count": 7,
   "metadata": {
    "pycharm": {
     "name": "#%%\n"
    }
   },
   "outputs": [],
   "source": [
    "# # One-hot-encode vocabulary\n",
    "# encoded = pd.get_dummies(vocabulary)\n",
    "# encoded.head()"
   ]
  },
  {
   "cell_type": "code",
   "execution_count": 8,
   "metadata": {
    "pycharm": {
     "name": "#%%\n"
    }
   },
   "outputs": [
    {
     "data": {
      "text/plain": "peace    0\nlilac    1\nzoe      2\nellis    3\nchino    4\ndtype: int64"
     },
     "execution_count": 8,
     "metadata": {},
     "output_type": "execute_result"
    }
   ],
   "source": [
    "# Swap index and value\n",
    "vocabulary = pd.Series(dict((w, i) for i, w in vocabulary.iteritems()))\n",
    "# Store vocabulary\n",
    "vocabulary.to_json('data/vocabulary.json')\n",
    "vocabulary.head()"
   ]
  },
  {
   "cell_type": "code",
   "execution_count": 11,
   "outputs": [
    {
     "data": {
      "text/plain": "id\n15970      [1227, 886, 1593, 1501, 1498, 1643]\n39386       [665, 2265, 1593, 856, 1498, 1010]\n59263                  [1041, 2023, 1767, 835]\n21379    [505, 65, 1593, 450, 1867, 470, 1258]\n53759                   [808, 1593, 2313, 298]\nName: productDisplayName, dtype: object"
     },
     "execution_count": 11,
     "metadata": {},
     "output_type": "execute_result"
    }
   ],
   "source": [
    "# Use vocabulary to turn words into numbers\n",
    "tokens = tags.apply(lambda s: [vocabulary[w] for w in s if w in vocabulary.index])\n",
    "tokens.to_json('data/tokens.json')\n",
    "tokens.head()"
   ],
   "metadata": {
    "collapsed": false,
    "pycharm": {
     "name": "#%%\n"
    }
   }
  },
  {
   "cell_type": "code",
   "execution_count": null,
   "outputs": [],
   "source": [],
   "metadata": {
    "collapsed": false,
    "pycharm": {
     "name": "#%%\n"
    }
   }
  }
 ],
 "metadata": {
  "kernelspec": {
   "display_name": "Python 3.8.3 64-bit ('base': conda)",
   "language": "python",
   "name": "python38364bitbaseconda95a146a3e0f24d269763f2b941d4e57c"
  },
  "language_info": {
   "codemirror_mode": {
    "name": "ipython",
    "version": 3
   },
   "file_extension": ".py",
   "mimetype": "text/x-python",
   "name": "python",
   "nbconvert_exporter": "python",
   "pygments_lexer": "ipython3",
   "version": "3.8.3"
  }
 },
 "nbformat": 4,
 "nbformat_minor": 1
}